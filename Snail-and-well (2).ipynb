{
 "cells": [
  {
   "cell_type": "code",
   "execution_count": 1,
   "metadata": {},
   "outputs": [
    {
     "name": "stdout",
     "output_type": "stream",
     "text": [
      "Days =  11\n"
     ]
    }
   ],
   "source": [
    "height = 125\n",
    "days = 0\n",
    "daily_advance = 30\n",
    "night_retreat = 20\n",
    "accumulated_distance = 0\n",
    "\n",
    "while accumulated_distance < height:\n",
    "    if accumulated_distance + daily_advance < height:\n",
    "        accumulated_distance += daily_advance - night_retreat\n",
    "        days += 1\n",
    "    else:   \n",
    "        days += 1\n",
    "        break\n",
    "    \n",
    "print('Days = ', days)"
   ]
  },
  {
   "cell_type": "code",
   "execution_count": 2,
   "metadata": {},
   "outputs": [
    {
     "name": "stdout",
     "output_type": "stream",
     "text": [
      "Days =  5\n",
      "Max Displacement =  57\n",
      "Min Displacement =  -8\n",
      "Average Progress =  18.09090909090909\n",
      "Standard Deviation =  17.159437082600803\n"
     ]
    }
   ],
   "source": [
    "import numpy as np\n",
    "\n",
    "height = 125\n",
    "days = 0\n",
    "avg_progress = 0\n",
    "max_displacement = 0\n",
    "min_displacement = 0\n",
    "new_list = []\n",
    "advance_cm = [30, 21, 33, 77, 44, 45, 23, 45, 12, 34, 55]\n",
    "night_retreat = 20\n",
    "accumulated_distance = 0\n",
    "\n",
    "for i in range(len(advance_cm)):\n",
    "    if accumulated_distance + advance_cm[i] < height:\n",
    "        accumulated_distance += advance_cm[i] - night_retreat\n",
    "        days += 1\n",
    "        i += 1\n",
    "    else:   \n",
    "        days += 1\n",
    "        break\n",
    "    \n",
    "print('Days = ', days)\n",
    "\n",
    "max_displacement = max(advance_cm) - night_retreat\n",
    "print('Max Displacement = ', max_displacement)\n",
    "\n",
    "min_displacement = min(advance_cm) - night_retreat\n",
    "print('Min Displacement = ', min_displacement)\n",
    "\n",
    "for i in range(len(advance_cm)):\n",
    "    new_list.append(advance_cm[i] - night_retreat)\n",
    "    \n",
    "print('Average Progress = ', np.mean(new_list))\n",
    "print('Standard Deviation = ', np.std(new_list))"
   ]
  },
  {
   "cell_type": "code",
   "execution_count": null,
   "metadata": {},
   "outputs": [],
   "source": []
  }
 ],
 "metadata": {
  "kernelspec": {
   "display_name": "Python 3",
   "language": "python",
   "name": "python3"
  },
  "language_info": {
   "codemirror_mode": {
    "name": "ipython",
    "version": 3
   },
   "file_extension": ".py",
   "mimetype": "text/x-python",
   "name": "python",
   "nbconvert_exporter": "python",
   "pygments_lexer": "ipython3",
   "version": "3.7.3"
  }
 },
 "nbformat": 4,
 "nbformat_minor": 2
}
